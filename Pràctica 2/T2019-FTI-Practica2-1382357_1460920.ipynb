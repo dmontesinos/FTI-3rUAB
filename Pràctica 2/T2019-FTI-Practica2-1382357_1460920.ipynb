{
 "cells": [
  {
   "cell_type": "code",
   "execution_count": 116,
   "metadata": {},
   "outputs": [],
   "source": [
    "# IMPORTANT!!!\n",
    "# [1] Introduïu les dades sobre el vostre grup en el format especificat.\n",
    "# [2] Desar la pràctica posant els NIUs dels membres del grup\n",
    "# [3] És imprescindible que el worksheet es pugui avaluar completament (Cell->Run All) sense que es produeixi cap error de sintaxi. \n",
    "# [4] Cal lliurar el worksheet ABANS de finalitzar la vostra sessió de pràctiques.\n",
    "# [5] No s'avaluaran worksheets que no compleixin els requisits anteriors.\n",
    "\n",
    "# El format del grup hauria de ser una lletra en majúscules seguida d'un número, per exemple, \"E5\"\n",
    "GROUP = \"fti-a3\" \n",
    "\n",
    "NIU_ESTUDIANT_1 = 1382357\n",
    "NOM_ESTUDIANT_1 = \"Rubén Reyes Andrades\"\n",
    "\n",
    "NIU_ESTUDIANT_2 = 1460920\n",
    "NOM_ESTUDIANT_2 = \"Daniel Montesinos Santos\""
   ]
  },
  {
   "cell_type": "code",
   "execution_count": 117,
   "metadata": {},
   "outputs": [
    {
     "name": "stdout",
     "output_type": "stream",
     "text": [
      "F2:\n",
      "Finite Field of size 2\n",
      "v:\n",
      "(1, 0, 1, 1)\n",
      "v.list():\n",
      "[1, 0, 1, 1]\n",
      "G:\n",
      "[0 1 0 1 0]\n",
      "[0 1 1 1 0]\n",
      "[0 0 1 0 1]\n",
      "[0 1 0 0 1]\n",
      "C:\n",
      "[5, 4] linear code over GF(2)\n",
      "Z2X:\n",
      "Univariate Polynomial Ring in x over Finite Field of size 2 (using GF2X)\n",
      "pX:\n",
      "x^5 + x^4 + x^2 + 1\n",
      "pX:\n",
      "x^3 + x^2 + 1\n",
      "pX.shift(2):\n",
      "x^5 + x^4 + x^2\n",
      "pX.shift(-1):\n",
      "x^2 + x\n",
      "qX:\n",
      "x^4 + x^2 + x + 1\n",
      "True\n",
      "qX.is_irreducible():\n",
      "False\n",
      "qX.factor():\n",
      "(x + 1) * (x^3 + x^2 + 1)\n",
      "C:\n",
      "[3, 2] Cyclic Code over GF(2)\n",
      "S:\n",
      "set([(1, 1, 0), (0, 0, 0), (1, 0, 1), (0, 1, 1)])\n"
     ]
    }
   ],
   "source": [
    "# EXERCISE 1: Introduction to codes in sage\n",
    "\n",
    "# Necessitem definir un cos base: \n",
    "F2 = GF(2)\n",
    "print \"F2:\"\n",
    "print F2\n",
    "\n",
    "# Es pot definir una paraula-codi com un vector: \n",
    "v = vector(GF(2),[1, 0, 1, 1])\n",
    "print \"v:\"\n",
    "print v\n",
    "\n",
    "# I convertir un vector a una llista: \n",
    "print \"v.list():\"\n",
    "print v.list()\n",
    "\n",
    "# Podem definir una matriu,\n",
    "G = matrix(F2, [(0,1,0,1,0),(0,1,1,1,0),(0,0,1,0,1),(0,1,0,0,1)])\n",
    "print \"G:\"\n",
    "print G\n",
    "\n",
    "# I el codi lineal amb aquesta matriu generadora: \n",
    "C = LinearCode(G)\n",
    "print \"C:\"\n",
    "print C\n",
    "\n",
    "# Construcció de l’anell de polinomis sobre GF(2): \n",
    "Z2X.<x> = PolynomialRing(F2)\n",
    "print \"Z2X:\"\n",
    "print Z2X\n",
    "\n",
    "# Definir un polinomi amb coeficients a GF(2): \n",
    "pX = Z2X(1+x^2+x^4+x^5)\n",
    "print \"pX:\"\n",
    "print pX\n",
    "\n",
    "# Alternativament:\n",
    "pX = Z2X([1,0,1,1])\n",
    "print \"pX:\"\n",
    "print pX\n",
    "\n",
    "# Desplaçament dels coeficients d’un polinomi (multiplicar per x^2): \n",
    "print \"pX.shift(2):\"\n",
    "print pX.shift(2)\n",
    "\n",
    "# També en l’altre sentit (dividir per x), \n",
    "print \"pX.shift(-1):\"\n",
    "print pX.shift(-1)\n",
    "\n",
    "# Operar amb polinomis: \n",
    "qX = pX*(x+1)\n",
    "print \"qX:\"\n",
    "print qX\n",
    "\n",
    "# Comprovar si un polinomi és irreductible: \n",
    "print pX.is_irreducible()\n",
    "print \"qX.is_irreducible():\"\n",
    "print qX.is_irreducible()\n",
    "\n",
    "# I si no ho és, descomposar-lo en factors: \n",
    "print \"qX.factor():\"\n",
    "print qX.factor()\n",
    "\n",
    "# Construir un codi cíclic de longitud 3 i polinomi generador x+1: \n",
    "C = codes.CyclicCode(x+1, 3)\n",
    "print \"C:\"\n",
    "print C\n",
    "\n",
    "# Conjunt amb les paraules d'un codi cíclic\n",
    "S = set(C.list())\n",
    "print \"S:\"\n",
    "print S"
   ]
  },
  {
   "cell_type": "code",
   "execution_count": 118,
   "metadata": {},
   "outputs": [],
   "source": [
    "# EXERCISE 2a: Implement a right cyclic shift\n",
    "\n",
    "# Function UAB_right_shift.\n",
    "# * Parameter n: Integer, number of places to shift (>= 0)\n",
    "# * Parameter L: List, list with values to shift\n",
    "# * Returns: shifted list\n",
    "#\n",
    "def UAB_right_shift(n, L):\n",
    "    \n",
    "    result = None\n",
    "    \n",
    "    #### IMPLEMENTATION GOES HERE ####\n",
    "    \n",
    "    if(n>=0):\n",
    "        nElements=len(L)\n",
    "        pX=Z2X(L)\n",
    "        A=pX.shift(n)%(x^nElements+1)\n",
    "        result=A.list()\n",
    "        result = result + [0]*(nElements - len(result))\n",
    "        \n",
    "    ##################################\n",
    "    \n",
    "    return result"
   ]
  },
  {
   "cell_type": "code",
   "execution_count": 119,
   "metadata": {},
   "outputs": [
    {
     "name": "stdout",
     "output_type": "stream",
     "text": [
      "Són Equivalents!!\n",
      "Longitud del codi: 7\n",
      "Dimensió del codi: 4\n",
      "Distància mínima del codi: 3\n"
     ]
    }
   ],
   "source": [
    "# EXERCISE 2b: Generate the two codes and check they are equivalent. Show length, dimension and minimum distance of the generated code\n",
    "\n",
    "#### IMPLEMENTATION GOES HERE ####\n",
    "\n",
    "v=[0,0,1,1,0,1,0]\n",
    "longitud=7\n",
    "pX=1+x+x^3\n",
    "\n",
    "list_V=[]\n",
    "list_V.append(v)\n",
    "\n",
    "for i in range(1,7):\n",
    "    list_V.append(UAB_right_shift(i,v))\n",
    "\n",
    "LinearV=LinearCode(matrix(GF(2),list_V))\n",
    "\n",
    "Code_pX=codes.CyclicCode(pX,longitud)\n",
    "LVList=set(LinearV.list())\n",
    "CodeList=set(Code_pX.list())\n",
    "\n",
    "final=LVList & CodeList\n",
    "\n",
    "if(len(final)==len(CodeList)==len(LVList)):\n",
    "    print(\"Són Equivalents!!\")\n",
    "else:\n",
    "    print(\"NO són equivalents\")\n",
    "\n",
    "\n",
    "print(\"Longitud del codi: \" + str(Code_pX.length()))\n",
    "print(\"Dimensió del codi: \" + str(Code_pX.dimension()))\n",
    "print(\"Distància mínima del codi: \" + str(Code_pX.minimum_distance()))\n",
    "\n",
    "\n",
    "\n",
    "##################################"
   ]
  },
  {
   "cell_type": "code",
   "execution_count": 120,
   "metadata": {},
   "outputs": [
    {
     "name": "stdout",
     "output_type": "stream",
     "text": [
      "x^4 + x + 1   és irreductible i per tant generador\n",
      "x^3 + x^2 + 1   NO és irreductible i per tant NO generador\n"
     ]
    }
   ],
   "source": [
    "# EXERCISE 3: Check code existence\n",
    "\n",
    "#### IMPLEMENTATION GOES HERE ####\n",
    "\n",
    "gX1=1+x+x^4\n",
    "gX2=1+x^2+x^3\n",
    "longitud=15\n",
    "\n",
    "gcdX1=gcd(gX1,(x^longitud)+1)\n",
    "gcdX2=gcd(gX2,(x^longitud)+1)\n",
    "\n",
    "if(gcdX1==gX1):\n",
    "    print(str(gX1) + \"   és irreductible i per tant generador\")\n",
    "else:\n",
    "    print(str(gX1) + \"   NO és irreductible i per tant NO generador\")\n",
    "\n",
    "if(gcdX2==gX2):\n",
    "    print(str(gX2) + \"   és irreductible i per tant generador\")\n",
    "else:\n",
    "    print(str(gX2) + \"   NO és irreductible i per tant NO generador\")\n",
    "    \n",
    "\n",
    "#Sí existeix un codi binari cíclic de longitud 15 amb gX1 perquè aquest polinomi és irreductible, ja que\n",
    "#el màxim comú divisor entre gX1 i x^15+1 és gX1. En canvi, si ho fem amb gX2, el resultat és 1 que és diferent\n",
    "#a gX2 i per tant no genera perquè és reductible.\n",
    "\n",
    "################################"
   ]
  },
  {
   "cell_type": "code",
   "execution_count": 135,
   "metadata": {},
   "outputs": [
    {
     "name": "stdout",
     "output_type": "stream",
     "text": [
      "(x + 1) * (x^2 + x + 1) * (x^4 + x + 1) * (x^4 + x^3 + 1) * (x^4 + x^3 + x^2 + x + 1)\n",
      "Hi ha 31 codis binaris cíclis de longitud 15.\n"
     ]
    }
   ],
   "source": [
    "# EXERCISE 4: How many cíclic binary codes with length 15 exist?\n",
    "\n",
    "#### IMPLEMENTATION GOES HERE ####\n",
    "\n",
    "gX=x^15+1\n",
    "gxFactors=Z2X(gX).factor()\n",
    "\n",
    "print(gxFactors)\n",
    "\n",
    "print(\"Hi ha \" + str(2^len(set(gxFactors))-1) + \" codis binaris cíclis de longitud 15.\" )\n",
    "\n",
    "\n",
    "################################"
   ]
  },
  {
   "cell_type": "code",
   "execution_count": 122,
   "metadata": {},
   "outputs": [
    {
     "name": "stdout",
     "output_type": "stream",
     "text": [
      "x^3 + 1   és el menor codi cíclic de longitud 15 que conté v\n"
     ]
    }
   ],
   "source": [
    "# EXERCISE 5: Which is the smallest ciclic code of length 15 that contains the given code-word?\n",
    "\n",
    "#### IMPLEMENTATION GOES HERE ####\n",
    "\n",
    "v=[1,1,0,1,1,0,0,0,0,0,0,0,0,0,0]\n",
    "longitud=15\n",
    "\n",
    "pV=Z2X(v)\n",
    "\n",
    "gcdpV=gcd(pV,(x^longitud)+1)\n",
    "\n",
    "print(str(gcdpV) +\"   és el menor codi cíclic de longitud 15 que conté v\")\n",
    "      \n",
    "# Si generem el codi binari cíclic de longitud 15 amb el polinomi menor (que és el generador) x^3+1, dintre de\n",
    "# tot el conjunt resultat, la paraula codi <v> estarà inclosa.\n",
    "\n",
    "################################"
   ]
  },
  {
   "cell_type": "code",
   "execution_count": 123,
   "metadata": {},
   "outputs": [
    {
     "name": "stdout",
     "output_type": "stream",
     "text": [
      "h(x)=  x^11 + x^8 + x^7 + x^5 + x^3 + x^2 + x + 1   és el polinomi de control de g(x)\n",
      "h*(x)=  x^11 + x^10 + x^9 + x^8 + x^6 + x^4 + x^3 + 1   és el polinimi de control recíproc de g(x)\n"
     ]
    }
   ],
   "source": [
    "# EXERCISE 6: Compute h(x), h*(x)\n",
    "\n",
    "#### IMPLEMENTATION GOES HERE ####\n",
    "\n",
    "gX=1+x+x^4\n",
    "longitud=15\n",
    "\n",
    "hX=((x^longitud)+1)/(gX)\n",
    "\n",
    "print(\"h(x)=  \" + str(hX) + \"   és el polinomi de control de g(x)\")\n",
    "\n",
    "list_hX=Z2X(hX).list()\n",
    "list_hX.reverse()\n",
    "\n",
    "hX_recip=Z2X(list_hX)\n",
    "\n",
    "print(\"h*(x)=  \" + str(hX_recip) + \"   és el polinimi de control recíproc de g(x)\")\n",
    "\n",
    "################################"
   ]
  },
  {
   "cell_type": "code",
   "execution_count": 124,
   "metadata": {},
   "outputs": [],
   "source": [
    "# EXERCISE 7a: Compute the generator matrix\n",
    "\n",
    "# Function UAB_gen_matrix.\n",
    "# * Parameter g: generator polynomial\n",
    "# * Parameter n: Integer, length of the code\n",
    "# * Returns: generator matrix\n",
    "#\n",
    "\n",
    "def UAB_gen_matrix(g, n):\n",
    "    \n",
    "    G = None\n",
    "    \n",
    "    #### IMPLEMENTATION GOES HERE ####\n",
    "    \n",
    "    list_G = g.list() + [0]*(n - len(g.list()))\n",
    "\n",
    "    G=[]\n",
    "\n",
    "    G.append(list_G)\n",
    "\n",
    "    while(G[-1][-1]!=1):\n",
    "        G.append(UAB_right_shift(1,G[-1]))\n",
    "\n",
    "    ##################################\n",
    "\n",
    "    G=matrix(GF(2),G)\n",
    "    \n",
    "    return G"
   ]
  },
  {
   "cell_type": "code",
   "execution_count": 125,
   "metadata": {},
   "outputs": [
    {
     "name": "stdout",
     "output_type": "stream",
     "text": [
      "Matriu generadora de g1X: \n",
      "[1 1 0 0 1 0 0 0 0 0 0 0 0 0 0]\n",
      "[0 1 1 0 0 1 0 0 0 0 0 0 0 0 0]\n",
      "[0 0 1 1 0 0 1 0 0 0 0 0 0 0 0]\n",
      "[0 0 0 1 1 0 0 1 0 0 0 0 0 0 0]\n",
      "[0 0 0 0 1 1 0 0 1 0 0 0 0 0 0]\n",
      "[0 0 0 0 0 1 1 0 0 1 0 0 0 0 0]\n",
      "[0 0 0 0 0 0 1 1 0 0 1 0 0 0 0]\n",
      "[0 0 0 0 0 0 0 1 1 0 0 1 0 0 0]\n",
      "[0 0 0 0 0 0 0 0 1 1 0 0 1 0 0]\n",
      "[0 0 0 0 0 0 0 0 0 1 1 0 0 1 0]\n",
      "[0 0 0 0 0 0 0 0 0 0 1 1 0 0 1]\n",
      "\n",
      "Matriu generadora de g2X: \n",
      "[1 0 0 1 1 1 1 0 0 0 0 0 0 0 0]\n",
      "[0 1 0 0 1 1 1 1 0 0 0 0 0 0 0]\n",
      "[0 0 1 0 0 1 1 1 1 0 0 0 0 0 0]\n",
      "[0 0 0 1 0 0 1 1 1 1 0 0 0 0 0]\n",
      "[0 0 0 0 1 0 0 1 1 1 1 0 0 0 0]\n",
      "[0 0 0 0 0 1 0 0 1 1 1 1 0 0 0]\n",
      "[0 0 0 0 0 0 1 0 0 1 1 1 1 0 0]\n",
      "[0 0 0 0 0 0 0 1 0 0 1 1 1 1 0]\n",
      "[0 0 0 0 0 0 0 0 1 0 0 1 1 1 1]\n"
     ]
    }
   ],
   "source": [
    "# EXERCISE 7b: Compute the generator matrix of the given polynomials\n",
    "\n",
    "#### IMPLEMENTATION GOES HERE ####\n",
    "\n",
    "longitud=15\n",
    "g1X=1+x+x^4\n",
    "g2X=x^6+x^5+x^4+x^3+1\n",
    "\n",
    "matrix_g1X=UAB_gen_matrix(g1X,longitud)\n",
    "matrix_g2X=UAB_gen_matrix(g2X,longitud)\n",
    "\n",
    "print(\"Matriu generadora de g1X: \")\n",
    "print(matrix_g1X)\n",
    "print(\"\\nMatriu generadora de g2X: \")\n",
    "print(matrix_g2X)\n",
    "\n",
    "\n",
    "##################################"
   ]
  },
  {
   "cell_type": "code",
   "execution_count": 126,
   "metadata": {},
   "outputs": [],
   "source": [
    "# EXERCISE 8a: Compute the control matrix\n",
    "\n",
    "# Function UAB_con_matrix.\n",
    "# * Parameter g: generator polynomial\n",
    "# * Parameter n: Integer, length of the code\n",
    "# * Returns: control matrix\n",
    "#\n",
    "\n",
    "def UAB_con_matrix(g, n):\n",
    "    \n",
    "    H = None\n",
    "    \n",
    "    #### IMPLEMENTATION GOES HERE ####\n",
    "    \n",
    "    hX=((x^n)+1)/(g)\n",
    "\n",
    "    list_hX=Z2X(hX).list()\n",
    "    list_hX.reverse()\n",
    "\n",
    "    hX_recip=Z2X(list_hX)\n",
    "\n",
    "    H=UAB_gen_matrix(hX_recip,n)\n",
    "\n",
    "    H=matrix(GF(2),H)\n",
    "    \n",
    "    ##################################\n",
    "    \n",
    "    return H"
   ]
  },
  {
   "cell_type": "code",
   "execution_count": 127,
   "metadata": {},
   "outputs": [
    {
     "name": "stdout",
     "output_type": "stream",
     "text": [
      "Matriu de control de h1X: \n",
      "[1 0 0 1 1 0 1 0 1 1 1 1 0 0 0]\n",
      "[0 1 0 0 1 1 0 1 0 1 1 1 1 0 0]\n",
      "[0 0 1 0 0 1 1 0 1 0 1 1 1 1 0]\n",
      "[0 0 0 1 0 0 1 1 0 1 0 1 1 1 1]\n",
      "\n",
      "Matriu de control de h2X: \n",
      "[1 1 0 0 1 1 1 0 0 1 0 0 0 0 0]\n",
      "[0 1 1 0 0 1 1 1 0 0 1 0 0 0 0]\n",
      "[0 0 1 1 0 0 1 1 1 0 0 1 0 0 0]\n",
      "[0 0 0 1 1 0 0 1 1 1 0 0 1 0 0]\n",
      "[0 0 0 0 1 1 0 0 1 1 1 0 0 1 0]\n",
      "[0 0 0 0 0 1 1 0 0 1 1 1 0 0 1]\n"
     ]
    }
   ],
   "source": [
    "# EXERCISE 8b: Compute the control matrix of the given polynomials\n",
    "\n",
    "#### IMPLEMENTATION GOES HERE ####\n",
    "\n",
    "longitud=15\n",
    "g1X=1+x+x^4\n",
    "g2X=x^6+x^5+x^4+x^3+1\n",
    "\n",
    "matrix_h1X=UAB_con_matrix(g1X,longitud)\n",
    "matrix_h2X=UAB_con_matrix(g2X,longitud)\n",
    "\n",
    "print(\"Matriu de control de h1X: \")\n",
    "print(matrix_h1X)\n",
    "print(\"\\nMatriu de control de h2X: \")\n",
    "print(matrix_h2X)\n",
    "\n",
    "##################################"
   ]
  },
  {
   "cell_type": "code",
   "execution_count": 128,
   "metadata": {},
   "outputs": [
    {
     "name": "stdout",
     "output_type": "stream",
     "text": [
      "Test 2a.1: True\n",
      "Test 2a.2: True\n",
      "Test 2a.3: True\n",
      "Test 2a.4: True\n",
      "Test 2a.5: True\n",
      "Test 2a.6: True\n",
      "Test 2a.7: True\n",
      "Test 2a.8: True\n",
      "Test 2a.9: True\n",
      "Test 2a.10: True\n",
      "Test 2a.11: True\n",
      "Test 2a.12: True\n"
     ]
    }
   ],
   "source": [
    "####################################################################################\n",
    "# TEST CASES EXERCICE 2a\n",
    "####################################################################################\n",
    "\n",
    "def test_case_2a(name, n, L, exp_output):    \n",
    "    r = UAB_right_shift(n, L)\n",
    "    print \"Test\", name + \":\", exp_output == r\n",
    "\n",
    "\n",
    "test_case_2a(\"2a.1\", 1, [1,1,1,1,1,1,0], [0,1,1,1,1,1,1]) \n",
    "test_case_2a(\"2a.2\", 2, [1,1,1,1,1,1,0], [1,0,1,1,1,1,1]) \n",
    "test_case_2a(\"2a.3\", 3, [1,1,1,1,1,1,0], [1,1,0,1,1,1,1]) \n",
    "test_case_2a(\"2a.4\", 4, [1,1,1,1,1,1,0], [1,1,1,0,1,1,1]) \n",
    "test_case_2a(\"2a.5\", 5, [1,1,1,1,1,1,0], [1,1,1,1,0,1,1]) \n",
    "test_case_2a(\"2a.6\", 6, [1,1,1,1,1,1,0], [1,1,1,1,1,0,1]) \n",
    "test_case_2a(\"2a.7\", 7, [1,1,1,1,1,1,0], [1,1,1,1,1,1,0]) \n",
    "test_case_2a(\"2a.8\", 5, [1,0,1,0,0,1,0,0,0], [0, 1, 0, 0, 0, 1, 0, 1, 0]) \n",
    "test_case_2a(\"2a.9\", 3, [1,0,1,0,0,1,0,0,0], [0, 0, 0, 1, 0, 1, 0, 0, 1]) \n",
    "test_case_2a(\"2a.10\", 0, [1,0,1,0,0,1,0,0,0], [1, 0, 1, 0, 0, 1, 0, 0, 0]) \n",
    "test_case_2a(\"2a.11\", 9, [1,0,1,0,0,1,0,0,0], [1, 0, 1, 0, 0, 1, 0, 0, 0]) \n",
    "test_case_2a(\"2a.12\", 10, [1,0,1,0,0,1,0,0,0,1,1,1,1,1,0,0,0,1], [0, 1, 1, 1, 1, 1, 0, 0, 0, 1, 1, 0, 1, 0, 0, 1, 0, 0])"
   ]
  },
  {
   "cell_type": "code",
   "execution_count": 129,
   "metadata": {},
   "outputs": [
    {
     "name": "stdout",
     "output_type": "stream",
     "text": [
      "Test 7a.1: True\n",
      "Test 7a.2: True\n",
      "Test 7a.3: True\n",
      "Test 7a.4: True\n"
     ]
    }
   ],
   "source": [
    "####################################################################################\n",
    "# TEST CASES EXERCICE 7a\n",
    "####################################################################################\n",
    "\n",
    "def test_case_7a(name, g, n, exp_output):    \n",
    "    r=(UAB_gen_matrix(g, n))\n",
    "    print \"Test\", name + \":\", exp_output == r\n",
    "\n",
    "exp = matrix(GF(2), [[1,1,0,0,0,0,0,0,0,0,0,0,0,0,0],[0,1,1,0,0,0,0,0,0,0,0,0,0,0,0],[0,0,1,1,0,0,0,0,0,0,0,0,0,0,0],[0,0,0,1,1,0,0,0,0,0,0,0,0,0,0],[0,0,0,0,1,1,0,0,0,0,0,0,0,0,0],[0,0,0,0,0,1,1,0,0,0,0,0,0,0,0],[0,0,0,0,0,0,1,1,0,0,0,0,0,0,0],[0,0,0,0,0,0,0,1,1,0,0,0,0,0,0],[0,0,0,0,0,0,0,0,1,1,0,0,0,0,0],[0,0,0,0,0,0,0,0,0,1,1,0,0,0,0],[0,0,0,0,0,0,0,0,0,0,1,1,0,0,0],[0,0,0,0,0,0,0,0,0,0,0,1,1,0,0],[0,0,0,0,0,0,0,0,0,0,0,0,1,1,0],[0,0,0,0,0,0,0,0,0,0,0,0,0,1,1]])\n",
    "test_case_7a(\"7a.1\", Z2X(x+1), 15, exp) \n",
    "\n",
    "exp = matrix(GF(2), [[1,1,0,0,1,0,0,0,0,0,0,0,0,0,0],[0,1,1,0,0,1,0,0,0,0,0,0,0,0,0],[0,0,1,1,0,0,1,0,0,0,0,0,0,0,0],[0,0,0,1,1,0,0,1,0,0,0,0,0,0,0],[0,0,0,0,1,1,0,0,1,0,0,0,0,0,0],[0,0,0,0,0,1,1,0,0,1,0,0,0,0,0],[0,0,0,0,0,0,1,1,0,0,1,0,0,0,0],[0,0,0,0,0,0,0,1,1,0,0,1,0,0,0],[0,0,0,0,0,0,0,0,1,1,0,0,1,0,0],[0,0,0,0,0,0,0,0,0,1,1,0,0,1,0],[0,0,0,0,0,0,0,0,0,0,1,1,0,0,1]])\n",
    "test_case_7a(\"7a.2\", Z2X(x^4 + x + 1), 15, exp)\n",
    "\n",
    "exp = matrix(GF(2), [[1,0,0,1,1,0,0,0,0,0,0,0,0,0,0],[0,1,0,0,1,1,0,0,0,0,0,0,0,0,0],[0,0,1,0,0,1,1,0,0,0,0,0,0,0,0],[0,0,0,1,0,0,1,1,0,0,0,0,0,0,0],[0,0,0,0,1,0,0,1,1,0,0,0,0,0,0],[0,0,0,0,0,1,0,0,1,1,0,0,0,0,0],[0,0,0,0,0,0,1,0,0,1,1,0,0,0,0],[0,0,0,0,0,0,0,1,0,0,1,1,0,0,0],[0,0,0,0,0,0,0,0,1,0,0,1,1,0,0],[0,0,0,0,0,0,0,0,0,1,0,0,1,1,0],[0,0,0,0,0,0,0,0,0,0,1,0,0,1,1]])\n",
    "test_case_7a(\"7a.3\", Z2X(x^4 + x^3 + 1), 15, exp) \n",
    "\n",
    "exp = matrix(GF(2), [[1,0,1,0,1,1,1,0,0,0,0,0,0,0,0,0,0,0,0,0,0],[0,1,0,1,0,1,1,1,0,0,0,0,0,0,0,0,0,0,0,0,0],[0,0,1,0,1,0,1,1,1,0,0,0,0,0,0,0,0,0,0,0,0],[0,0,0,1,0,1,0,1,1,1,0,0,0,0,0,0,0,0,0,0,0],[0,0,0,0,1,0,1,0,1,1,1,0,0,0,0,0,0,0,0,0,0],[0,0,0,0,0,1,0,1,0,1,1,1,0,0,0,0,0,0,0,0,0],[0,0,0,0,0,0,1,0,1,0,1,1,1,0,0,0,0,0,0,0,0],[0,0,0,0,0,0,0,1,0,1,0,1,1,1,0,0,0,0,0,0,0],[0,0,0,0,0,0,0,0,1,0,1,0,1,1,1,0,0,0,0,0,0],[0,0,0,0,0,0,0,0,0,1,0,1,0,1,1,1,0,0,0,0,0],[0,0,0,0,0,0,0,0,0,0,1,0,1,0,1,1,1,0,0,0,0],[0,0,0,0,0,0,0,0,0,0,0,1,0,1,0,1,1,1,0,0,0],[0,0,0,0,0,0,0,0,0,0,0,0,1,0,1,0,1,1,1,0,0],[0,0,0,0,0,0,0,0,0,0,0,0,0,1,0,1,0,1,1,1,0],[0,0,0,0,0,0,0,0,0,0,0,0,0,0,1,0,1,0,1,1,1]])\n",
    "test_case_7a(\"7a.4\", Z2X(x^6 + x^5 + x^4 + x^2 + 1), 21, exp)"
   ]
  },
  {
   "cell_type": "code",
   "execution_count": 130,
   "metadata": {},
   "outputs": [
    {
     "name": "stdout",
     "output_type": "stream",
     "text": [
      "Test 8a.1: True\n",
      "Test 8a.2: True\n",
      "Test 8a.3: True\n",
      "Test 8a.4: True\n"
     ]
    }
   ],
   "source": [
    "####################################################################################\n",
    "# TEST CASES EXERCICE 8a\n",
    "####################################################################################\n",
    "\n",
    "def test_case_8a(name, g, n, exp_output):    \n",
    "    r = UAB_con_matrix(g, n)\n",
    "    print \"Test\", name + \":\", exp_output == r\n",
    "\n",
    "exp = matrix(GF(2), [1,1,1,1,1,1,1,1,1,1,1,1,1,1,1])\n",
    "test_case_8a(\"8a.1\", Z2X(x+1), 15, exp) \n",
    "\n",
    "exp = matrix(GF(2), [[1,0,0,1,1,0,1,0,1,1,1,1,0,0,0],[0,1,0,0,1,1,0,1,0,1,1,1,1,0,0],[0,0,1,0,0,1,1,0,1,0,1,1,1,1,0],[0,0,0,1,0,0,1,1,0,1,0,1,1,1,1]])\n",
    "test_case_8a(\"8a.2\", Z2X(x^4 + x + 1), 15, exp)\n",
    "\n",
    "exp = matrix(GF(2), [[1,1,1,1,0,1,0,1,1,0,0,1,0,0,0],[0,1,1,1,1,0,1,0,1,1,0,0,1,0,0],[0,0,1,1,1,1,0,1,0,1,1,0,0,1,0],[0,0,0,1,1,1,1,0,1,0,1,1,0,0,1]])\n",
    "test_case_8a(\"8a.3\", Z2X(x^4 + x^3 + 1), 15, exp) \n",
    "\n",
    "exp = matrix(GF(2), [[1,1,0,1,0,0,1,1,0,0,1,0,0,1,0,1,0,0,0,0,0],[0,1,1,0,1,0,0,1,1,0,0,1,0,0,1,0,1,0,0,0,0],[0,0,1,1,0,1,0,0,1,1,0,0,1,0,0,1,0,1,0,0,0],[0,0,0,1,1,0,1,0,0,1,1,0,0,1,0,0,1,0,1,0,0],[0,0,0,0,1,1,0,1,0,0,1,1,0,0,1,0,0,1,0,1,0],[0,0,0,0,0,1,1,0,1,0,0,1,1,0,0,1,0,0,1,0,1]])\n",
    "test_case_8a(\"8a.4\", Z2X(x^6 + x^5 + x^4 + x^2 + 1), 21, exp)"
   ]
  }
 ],
 "metadata": {
  "kernelspec": {
   "display_name": "SageMath 8.2",
   "language": "",
   "name": "sagemath"
  },
  "language_info": {
   "codemirror_mode": {
    "name": "ipython",
    "version": 2
   },
   "file_extension": ".py",
   "mimetype": "text/x-python",
   "name": "python",
   "nbconvert_exporter": "python",
   "pygments_lexer": "ipython2",
   "version": "2.7.14"
  }
 },
 "nbformat": 4,
 "nbformat_minor": 2
}
